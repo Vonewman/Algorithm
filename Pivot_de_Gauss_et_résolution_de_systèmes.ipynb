{
  "nbformat": 4,
  "nbformat_minor": 0,
  "metadata": {
    "colab": {
      "name": "Pivot de Gauss et résolution de systèmes.ipynb",
      "version": "0.3.2",
      "provenance": [],
      "include_colab_link": true
    },
    "kernelspec": {
      "name": "python3",
      "display_name": "Python 3"
    }
  },
  "cells": [
    {
      "cell_type": "markdown",
      "metadata": {
        "id": "view-in-github",
        "colab_type": "text"
      },
      "source": [
        "<a href=\"https://colab.research.google.com/github/Vonewman/Algorithme/blob/master/Pivot_de_Gauss_et_r%C3%A9solution_de_syst%C3%A8mes.ipynb\" target=\"_parent\"><img src=\"https://colab.research.google.com/assets/colab-badge.svg\" alt=\"Open In Colab\"/></a>"
      ]
    },
    {
      "cell_type": "code",
      "metadata": {
        "id": "144QgUo62lWE",
        "colab_type": "code",
        "colab": {}
      },
      "source": [
        ""
      ],
      "execution_count": 0,
      "outputs": []
    },
    {
      "cell_type": "markdown",
      "metadata": {
        "id": "mlUsN0IGISRr",
        "colab_type": "text"
      },
      "source": [
        ""
      ]
    },
    {
      "cell_type": "code",
      "metadata": {
        "id": "f4hMAWF8IPkZ",
        "colab_type": "code",
        "colab": {}
      },
      "source": [
        ""
      ],
      "execution_count": 0,
      "outputs": []
    },
    {
      "cell_type": "code",
      "metadata": {
        "colab_type": "code",
        "id": "hXk7E2tNIQfJ",
        "colab": {}
      },
      "source": [
        "  \n",
        "\n",
        "def chercher_pivot(A, i):\n",
        "    \"\"\"\n",
        "    Cette fonction prend en entrée une matrice A et un indice i.\n",
        "    Il doit renvoyer un indice j >= i tel que |Aj,i| soit maximale\n",
        "    \"\"\"\n",
        "    n = len(A) # le nombre de lignes\n",
        "    j = i      # la ligne du maximum provisoire\n",
        "    for k in range(i+1, n):\n",
        "      if abs(A[k][i]) > abs(A[i][j]):\n",
        "        j = k   # un nouveau maximum provisoire\n",
        "    return j\n",
        "    \n",
        "def transvection_ligne(A, i, j, mu):\n",
        "    \"\"\" L_i <- L_i + mu.L_j \"\"\"\n",
        "    nc = len(A[0]) # le nombre de colonnes\n",
        "    for k in range(nc):                    \n",
        "      A[i][k] += mu * A[j][k]            \n",
        "      \n",
        "def echange_lignes(A, i, j):               \n",
        "    nc = len(A[0])                         \n",
        "    for k in range(nc):                    \n",
        "      A[i][k], A[j][k] = A[j][k], A[i][k]\n",
        "\n",
        "def resolution(A0, Y0):\n",
        "    A, Y = copie_matrice(A0), copie_matrice(Y0)\n",
        "    n = len(A)\n",
        "    assert len(A[0]) == n\n",
        "    # mise sous forme triangulaire\n",
        "    for i in range(n):\n",
        "      j = chercher_pivot(A, i)\n",
        "      if j > i:\n",
        "        echange_lignes(A, i, j)\n",
        "        echange_lignes(A, i, j)\n",
        "        for k in range(i+1, n):\n",
        "          x = A[k][i] / float(A[i][j])\n",
        "          transvection_ligne(A, k, i, -x)\n",
        "          transvection_ligne(Y, k, i, -x)\n",
        "        # phase de remontée\n",
        "        x = [0.] * n\n",
        "        for i in range(n-1, -1, -1):\n",
        "          X[i] = (Y[i][0]-sum(A[i][j]*X[j] for j in range(i+1, n))) / A[i][i]\n",
        "      return X\n"
      ],
      "execution_count": 0,
      "outputs": []
    }
  ]
}