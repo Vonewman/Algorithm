{
  "nbformat": 4,
  "nbformat_minor": 0,
  "metadata": {
    "colab": {
      "name": "Linear Regression.ipynb",
      "version": "0.3.2",
      "provenance": [],
      "include_colab_link": true
    },
    "language_info": {
      "codemirror_mode": {
        "name": "ipython",
        "version": 3
      },
      "file_extension": ".py",
      "mimetype": "text/x-python",
      "name": "python",
      "nbconvert_exporter": "python",
      "pygments_lexer": "ipython3",
      "version": "3.6.7"
    },
    "kernelspec": {
      "display_name": "Python 3",
      "language": "python",
      "name": "python3"
    }
  },
  "cells": [
    {
      "cell_type": "markdown",
      "metadata": {
        "id": "view-in-github",
        "colab_type": "text"
      },
      "source": [
        "<a href=\"https://colab.research.google.com/github/Vonewman/Algorithme/blob/master/Linear_Regression.ipynb\" target=\"_parent\"><img src=\"https://colab.research.google.com/assets/colab-badge.svg\" alt=\"Open In Colab\"/></a>"
      ]
    },
    {
      "cell_type": "markdown",
      "metadata": {
        "id": "BEoEHYQ2Y4V5",
        "colab_type": "text"
      },
      "source": [
        "# Equation normal"
      ]
    },
    {
      "cell_type": "code",
      "metadata": {
        "id": "YP2oSTEvY4V7",
        "colab_type": "code",
        "colab": {}
      },
      "source": [
        "import numpy as np\n",
        "X = 2 * np.random.rand(100, 1)\n",
        "y = 4 + 3 * X + np.random.randn(100, 1) # y = 4 + 3x0 + bruit gaussien\n",
        "# \n",
        "X_b = np.c_[np.ones((100, 1)), X] # ajouter x0 = 1 à chaque observation\n",
        "theta_best = np.linalg.inv(X_b.T.dot(X_b)).dot(X_b.T).dot(y)"
      ],
      "execution_count": 0,
      "outputs": []
    },
    {
      "cell_type": "markdown",
      "metadata": {
        "id": "dT2ht_AuY4V_",
        "colab_type": "text"
      },
      "source": [
        "# Calcul de theta à l'aide de l'équation normale"
      ]
    },
    {
      "cell_type": "code",
      "metadata": {
        "id": "kX9A-TyfY4WA",
        "colab_type": "code",
        "outputId": "837b775e-b8d9-419c-c884-b620fd6a79b5",
        "colab": {
          "base_uri": "https://localhost:8080/",
          "height": 51
        }
      },
      "source": [
        "theta_best"
      ],
      "execution_count": 3,
      "outputs": [
        {
          "output_type": "execute_result",
          "data": {
            "text/plain": [
              "array([[4.13457185],\n",
              "       [2.87617303]])"
            ]
          },
          "metadata": {
            "tags": []
          },
          "execution_count": 3
        }
      ]
    },
    {
      "cell_type": "markdown",
      "metadata": {
        "id": "6JSDgga7Y4WG",
        "colab_type": "text"
      },
      "source": [
        "# Prédiction à l'aide de theta"
      ]
    },
    {
      "cell_type": "code",
      "metadata": {
        "id": "N4qiUjEgY4WH",
        "colab_type": "code",
        "outputId": "a7dfa742-7e39-4f63-9b12-9783f30733b5",
        "colab": {
          "base_uri": "https://localhost:8080/",
          "height": 51
        }
      },
      "source": [
        "X_new = np.array([[0],[2]])\n",
        "X_new_b = np.c_[np.ones((2,1)), X_new] # ajouter x = 1 à chaque obs\n",
        "y_predict = X_new_b.dot(theta_best)\n",
        "y_predict"
      ],
      "execution_count": 4,
      "outputs": [
        {
          "output_type": "execute_result",
          "data": {
            "text/plain": [
              "array([[4.13457185],\n",
              "       [9.88691792]])"
            ]
          },
          "metadata": {
            "tags": []
          },
          "execution_count": 4
        }
      ]
    },
    {
      "cell_type": "code",
      "metadata": {
        "id": "1Yv6X5z5Y4WL",
        "colab_type": "code",
        "outputId": "e1e0a489-d51e-4cb4-94c6-ea9cb777079a",
        "colab": {
          "base_uri": "https://localhost:8080/",
          "height": 269
        }
      },
      "source": [
        "%matplotlib inline\n",
        "import matplotlib.pyplot as plt\n",
        "plt.plot(X_new, y_predict, \"r-\")\n",
        "plt.plot(X, y, \"b.\")\n",
        "plt.axis([0, 2, 0, 15])\n",
        "plt.show()"
      ],
      "execution_count": 5,
      "outputs": [
        {
          "output_type": "display_data",
          "data": {
            "image/png": "[encoded data removed]",
            "text/plain": [
              "<Figure size 432x288 with 1 Axes>"
            ]
          },
          "metadata": {
            "tags": []
          }
        }
      ]
    },
    {
      "cell_type": "markdown",
      "metadata": {
        "id": "QRYPx0P_Y4WP",
        "colab_type": "text"
      },
      "source": [
        "# Le code implémenter avec scikit-learn"
      ]
    },
    {
      "cell_type": "code",
      "metadata": {
        "id": "El6YfAjSY4WP",
        "colab_type": "code",
        "outputId": "54958ba3-cc02-489b-9c87-316aa748b1bf",
        "colab": {
          "base_uri": "https://localhost:8080/",
          "height": 34
        }
      },
      "source": [
        "from sklearn.linear_model import LinearRegression\n",
        "lin_reg = LinearRegression()    # création du modèle linéaire\n",
        "lin_reg.fit(X, y)            # entrainement du modèle\n",
        "lin_reg.intercept_, lin_reg.coef_"
      ],
      "execution_count": 6,
      "outputs": [
        {
          "output_type": "execute_result",
          "data": {
            "text/plain": [
              "(array([4.13457185]), array([[2.87617303]]))"
            ]
          },
          "metadata": {
            "tags": []
          },
          "execution_count": 6
        }
      ]
    },
    {
      "cell_type": "code",
      "metadata": {
        "id": "igefRF6iY4WT",
        "colab_type": "code",
        "outputId": "e3d83028-1140-46a3-ffda-d1fa4ccf09b6",
        "colab": {
          "base_uri": "https://localhost:8080/",
          "height": 51
        }
      },
      "source": [
        "lin_reg.predict(X_new) # efectuer des prédictions"
      ],
      "execution_count": 7,
      "outputs": [
        {
          "output_type": "execute_result",
          "data": {
            "text/plain": [
              "array([[4.13457185],\n",
              "       [9.88691792]])"
            ]
          },
          "metadata": {
            "tags": []
          },
          "execution_count": 7
        }
      ]
    },
    {
      "cell_type": "code",
      "metadata": {
        "id": "nl2-jDVpY4WY",
        "colab_type": "code",
        "colab": {}
      },
      "source": [
        ""
      ],
      "execution_count": 0,
      "outputs": []
    },
    {
      "cell_type": "markdown",
      "metadata": {
        "id": "lk3drGYDY4Wb",
        "colab_type": "text"
      },
      "source": [
        "# Descente de Gradient"
      ]
    },
    {
      "cell_type": "markdown",
      "metadata": {
        "id": "P-HnRa6FY4Wc",
        "colab_type": "text"
      },
      "source": [
        "***normalisation avec Numpy***"
      ]
    },
    {
      "cell_type": "code",
      "metadata": {
        "id": "nFgdmQf4Y4Wd",
        "colab_type": "code",
        "colab": {}
      },
      "source": [
        "X_norm = (X - X.mean(axis=0))/X.std(axis=0)"
      ],
      "execution_count": 0,
      "outputs": []
    },
    {
      "cell_type": "markdown",
      "metadata": {
        "id": "WXnUPhcFY4Wg",
        "colab_type": "text"
      },
      "source": [
        "***normalisation avec sklearn***"
      ]
    },
    {
      "cell_type": "code",
      "metadata": {
        "id": "hkMT2ePKY4Wh",
        "colab_type": "code",
        "colab": {}
      },
      "source": [
        "from sklearn.preprocessing import StandardScaler\n",
        "scaler = StandardScaler()\n",
        "X_norm = scaler.fit_transform(X)"
      ],
      "execution_count": 0,
      "outputs": []
    },
    {
      "cell_type": "markdown",
      "metadata": {
        "id": "Gi7Uur3qY4Wj",
        "colab_type": "text"
      },
      "source": [
        "# Descente de gradient Ordinaire"
      ]
    },
    {
      "cell_type": "code",
      "metadata": {
        "id": "-u_kz9cYY4Wm",
        "colab_type": "code",
        "colab": {}
      },
      "source": [
        "eta = 0.1 # taux d'apprentissage\n",
        "n_iterations = 0\n",
        "m = 100\n",
        "theta = np.random.randn(2, 1) # Initialisation aléatoire\n",
        "\n",
        "\n",
        "for iteration in range(n_iterations):\n",
        "    gradients = 2/m * X_b.T.dot(X_b.dot(theta) - y)\n",
        "    theta = theta - eta * gradients\n",
        "    "
      ],
      "execution_count": 0,
      "outputs": []
    },
    {
      "cell_type": "code",
      "metadata": {
        "id": "DsQG7-1MY4Wq",
        "colab_type": "code",
        "outputId": "8b6eefa5-d0b4-446a-8677-d8bee81de79d",
        "colab": {
          "base_uri": "https://localhost:8080/",
          "height": 51
        }
      },
      "source": [
        "theta"
      ],
      "execution_count": 11,
      "outputs": [
        {
          "output_type": "execute_result",
          "data": {
            "text/plain": [
              "array([[0.48917836],\n",
              "       [0.18161984]])"
            ]
          },
          "metadata": {
            "tags": []
          },
          "execution_count": 11
        }
      ]
    },
    {
      "cell_type": "code",
      "metadata": {
        "id": "nIhWmgkKY4Wu",
        "colab_type": "code",
        "colab": {}
      },
      "source": [
        "    "
      ],
      "execution_count": 0,
      "outputs": []
    },
    {
      "cell_type": "markdown",
      "metadata": {
        "id": "fp67DzsIIS2j",
        "colab_type": "text"
      },
      "source": [
        "# Descente de Gradient Stochastique"
      ]
    },
    {
      "cell_type": "code",
      "metadata": {
        "id": "5at35rnPY4Wy",
        "colab_type": "code",
        "colab": {}
      },
      "source": [
        "n_epochs = 50\n",
        "\n",
        "t0, t1 = 5, 50\n",
        "\n",
        "def learning_schedule(t):\n",
        "  return t0 / (t + t1)\n",
        "\n",
        "theta  = np.random.randn(2,1)\n",
        "\n",
        "for epoch in range(n_epochs):\n",
        "  for i in range(m):\n",
        "    random_index = np.random.randint(m)\n",
        "    xi = X_b[random_index:random_index+1]\n",
        "    yi = y[random_index:random_index+1]\n",
        "    gradients = 2 * xi.T.dot(xi.dot(theta)-yi)\n",
        "    eta = learning_schedule(epoch * m + 1)\n",
        "    theta = theta - eta * gradients"
      ],
      "execution_count": 0,
      "outputs": []
    },
    {
      "cell_type": "code",
      "metadata": {
        "id": "YPLkg0UtY4W2",
        "colab_type": "code",
        "outputId": "3c6e0411-80d1-45f6-bb26-ef69d9261f55",
        "colab": {
          "base_uri": "https://localhost:8080/",
          "height": 51
        }
      },
      "source": [
        "theta"
      ],
      "execution_count": 13,
      "outputs": [
        {
          "output_type": "execute_result",
          "data": {
            "text/plain": [
              "array([[4.1696958],\n",
              "       [2.852806 ]])"
            ]
          },
          "metadata": {
            "tags": []
          },
          "execution_count": 13
        }
      ]
    },
    {
      "cell_type": "code",
      "metadata": {
        "id": "xgvmFocKvtFj",
        "colab_type": "code",
        "colab": {
          "base_uri": "https://localhost:8080/",
          "height": 119
        },
        "outputId": "290df5b3-4709-435f-98ae-f1384cad2173"
      },
      "source": [
        "from sklearn.linear_model import SGDRegressor\n",
        "sgd_reg = SGDRegressor(n_iter_no_change=5, penalty=None, eta0=0.01)\n",
        "sgd_reg.fit(X, y.ravel())"
      ],
      "execution_count": 14,
      "outputs": [
        {
          "output_type": "execute_result",
          "data": {
            "text/plain": [
              "SGDRegressor(alpha=0.0001, average=False, early_stopping=False, epsilon=0.1,\n",
              "             eta0=0.01, fit_intercept=True, l1_ratio=0.15,\n",
              "             learning_rate='invscaling', loss='squared_loss', max_iter=1000,\n",
              "             n_iter_no_change=5, penalty=None, power_t=0.25, random_state=None,\n",
              "             shuffle=True, tol=0.001, validation_fraction=0.1, verbose=0,\n",
              "             warm_start=False)"
            ]
          },
          "metadata": {
            "tags": []
          },
          "execution_count": 14
        }
      ]
    },
    {
      "cell_type": "code",
      "metadata": {
        "id": "9b92Y_8LR6vV",
        "colab_type": "code",
        "colab": {
          "base_uri": "https://localhost:8080/",
          "height": 34
        },
        "outputId": "edca863d-e3b2-4e00-ceb5-7d1feba6aee4"
      },
      "source": [
        "sgd_reg.intercept_, sgd_reg.coef_"
      ],
      "execution_count": 15,
      "outputs": [
        {
          "output_type": "execute_result",
          "data": {
            "text/plain": [
              "(array([3.76279494]), array([3.18851982]))"
            ]
          },
          "metadata": {
            "tags": []
          },
          "execution_count": 15
        }
      ]
    },
    {
      "cell_type": "code",
      "metadata": {
        "id": "8PTrVYCJoJnK",
        "colab_type": "code",
        "colab": {}
      },
      "source": [
        ""
      ],
      "execution_count": 0,
      "outputs": []
    },
    {
      "cell_type": "markdown",
      "metadata": {
        "id": "4GNU5covUbLC",
        "colab_type": "text"
      },
      "source": [
        "# Régression polynomial"
      ]
    },
    {
      "cell_type": "code",
      "metadata": {
        "id": "iI8BuNh9Ukrb",
        "colab_type": "code",
        "colab": {}
      },
      "source": [
        "m = 100\n",
        "X = 6 * np.random.rand(m, 1) - 3\n",
        "y = 0.5 * X**2 + X + 2 + np.random.randn(m, 1)"
      ],
      "execution_count": 0,
      "outputs": []
    },
    {
      "cell_type": "code",
      "metadata": {
        "id": "oAk7lped6Z3l",
        "colab_type": "code",
        "colab": {
          "base_uri": "https://localhost:8080/",
          "height": 34
        },
        "outputId": "be212b1c-8c1d-4756-f8c1-d0b42f6539a7"
      },
      "source": [
        "from sklearn.preprocessing import PolynomialFeatures\n",
        "poly_features = PolynomialFeatures(degree=2, include_bias=False)\n",
        "X_poly = poly_features.fit_transform(X)\n",
        "X[0]"
      ],
      "execution_count": 19,
      "outputs": [
        {
          "output_type": "execute_result",
          "data": {
            "text/plain": [
              "array([-2.26123828])"
            ]
          },
          "metadata": {
            "tags": []
          },
          "execution_count": 19
        }
      ]
    },
    {
      "cell_type": "code",
      "metadata": {
        "id": "nu1blw5ESkYd",
        "colab_type": "code",
        "colab": {
          "base_uri": "https://localhost:8080/",
          "height": 34
        },
        "outputId": "aeaaaf91-69b2-44a2-ff3a-de9994bb48f1"
      },
      "source": [
        "X_poly[0]"
      ],
      "execution_count": 20,
      "outputs": [
        {
          "output_type": "execute_result",
          "data": {
            "text/plain": [
              "array([-2.26123828,  5.11319857])"
            ]
          },
          "metadata": {
            "tags": []
          },
          "execution_count": 20
        }
      ]
    },
    {
      "cell_type": "code",
      "metadata": {
        "id": "q4RpD0xof0yp",
        "colab_type": "code",
        "colab": {
          "base_uri": "https://localhost:8080/",
          "height": 34
        },
        "outputId": "c434e988-3354-4135-9fe0-a5f75cf0c600"
      },
      "source": [
        "lin_reg = LinearRegression()\n",
        "lin_reg.fit(X_poly, y)\n",
        "lin_reg.intercept_, lin_reg.coef_"
      ],
      "execution_count": 21,
      "outputs": [
        {
          "output_type": "execute_result",
          "data": {
            "text/plain": [
              "(array([2.02349018]), array([[1.03769387, 0.53579608]]))"
            ]
          },
          "metadata": {
            "tags": []
          },
          "execution_count": 21
        }
      ]
    },
    {
      "cell_type": "code",
      "metadata": {
        "id": "KUHSI2ZigKCU",
        "colab_type": "code",
        "colab": {}
      },
      "source": [
        ""
      ],
      "execution_count": 0,
      "outputs": []
    }
  ]
}