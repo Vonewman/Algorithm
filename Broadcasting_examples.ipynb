{
  "nbformat": 4,
  "nbformat_minor": 0,
  "metadata": {
    "colab": {
      "name": "Broadcasting examples.ipynb",
      "version": "0.3.2",
      "provenance": [],
      "include_colab_link": true
    },
    "kernelspec": {
      "name": "python3",
      "display_name": "Python 3"
    }
  },
  "cells": [
    {
      "cell_type": "markdown",
      "metadata": {
        "id": "view-in-github",
        "colab_type": "text"
      },
      "source": [
        "<a href=\"https://colab.research.google.com/github/Vonewman/Algorithme/blob/master/Broadcasting_examples.ipynb\" target=\"_parent\"><img src=\"https://colab.research.google.com/assets/colab-badge.svg\" alt=\"Open In Colab\"/></a>"
      ]
    },
    {
      "cell_type": "code",
      "metadata": {
        "id": "Kslc5Qgn6Yw7",
        "colab_type": "code",
        "colab": {
          "base_uri": "https://localhost:8080/",
          "height": 68
        },
        "outputId": "266d7f2f-d253-4707-b448-d3c68ceb3017"
      },
      "source": [
        "import numpy as np\n",
        "\n",
        "\n",
        "A = np.array([[56.0, 0.0, 4.4, 68.0],\n",
        "             [1.2, 104.0, 52.0, 8.0],\n",
        "             [1.8, 135.0, 99.0, 0.9]])\n",
        "\n",
        "\n",
        "print(A)"
      ],
      "execution_count": 1,
      "outputs": [
        {
          "output_type": "stream",
          "text": [
            "[[ 56.    0.    4.4  68. ]\n",
            " [  1.2 104.   52.    8. ]\n",
            " [  1.8 135.   99.    0.9]]\n"
          ],
          "name": "stdout"
        }
      ]
    },
    {
      "cell_type": "markdown",
      "metadata": {
        "id": "g395n-N7-T1A",
        "colab_type": "text"
      },
      "source": [
        "**calories** from carbs, proteins, fats in 100g of differents foods."
      ]
    },
    {
      "cell_type": "code",
      "metadata": {
        "id": "dEDDZTdn-fDs",
        "colab_type": "code",
        "colab": {
          "base_uri": "https://localhost:8080/",
          "height": 34
        },
        "outputId": "29bd0bd4-178e-4094-a5d3-b07030ea5d92"
      },
      "source": [
        "cal = A.sum(axis=0)\n",
        "print(cal)"
      ],
      "execution_count": 2,
      "outputs": [
        {
          "output_type": "stream",
          "text": [
            "[ 59.  239.  155.4  76.9]\n"
          ],
          "name": "stdout"
        }
      ]
    },
    {
      "cell_type": "code",
      "metadata": {
        "id": "92Fc5jtT_QkM",
        "colab_type": "code",
        "colab": {
          "base_uri": "https://localhost:8080/",
          "height": 68
        },
        "outputId": "c1a25eb5-e486-47fc-9a1a-ad62cdead292"
      },
      "source": [
        "pourcentage = 100 * A/cal.reshape(1, 4)\n",
        "print(pourcentage)"
      ],
      "execution_count": 3,
      "outputs": [
        {
          "output_type": "stream",
          "text": [
            "[[94.91525424  0.          2.83140283 88.42652796]\n",
            " [ 2.03389831 43.51464435 33.46203346 10.40312094]\n",
            " [ 3.05084746 56.48535565 63.70656371  1.17035111]]\n"
          ],
          "name": "stdout"
        }
      ]
    },
    {
      "cell_type": "code",
      "metadata": {
        "id": "88wHughaA17Z",
        "colab_type": "code",
        "colab": {}
      },
      "source": [
        ""
      ],
      "execution_count": 0,
      "outputs": []
    }
  ]
}