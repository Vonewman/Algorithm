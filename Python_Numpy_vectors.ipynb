{
  "nbformat": 4,
  "nbformat_minor": 0,
  "metadata": {
    "colab": {
      "name": "Python-Numpy vectors.ipynb",
      "version": "0.3.2",
      "provenance": [],
      "include_colab_link": true
    },
    "kernelspec": {
      "name": "python3",
      "display_name": "Python 3"
    }
  },
  "cells": [
    {
      "cell_type": "markdown",
      "metadata": {
        "id": "view-in-github",
        "colab_type": "text"
      },
      "source": [
        "<a href=\"https://colab.research.google.com/github/Vonewman/Algorithme/blob/master/Python_Numpy_vectors.ipynb\" target=\"_parent\"><img src=\"https://colab.research.google.com/assets/colab-badge.svg\" alt=\"Open In Colab\"/></a>"
      ]
    },
    {
      "cell_type": "code",
      "metadata": {
        "id": "dLf18xVelmLb",
        "colab_type": "code",
        "colab": {}
      },
      "source": [
        "import numpy as np\n",
        "\n",
        "a = np.random.randn(5)"
      ],
      "execution_count": 0,
      "outputs": []
    },
    {
      "cell_type": "code",
      "metadata": {
        "id": "yaOjWnrVl1y_",
        "colab_type": "code",
        "colab": {
          "base_uri": "https://localhost:8080/",
          "height": 34
        },
        "outputId": "30a073bc-228a-41d4-afc5-d0bc07313e41"
      },
      "source": [
        "print(a)"
      ],
      "execution_count": 2,
      "outputs": [
        {
          "output_type": "stream",
          "text": [
            "[-0.95968604 -1.56532186  0.6940435  -0.71929287 -1.90713525]\n"
          ],
          "name": "stdout"
        }
      ]
    },
    {
      "cell_type": "code",
      "metadata": {
        "id": "EX8x7w-Il5ln",
        "colab_type": "code",
        "colab": {
          "base_uri": "https://localhost:8080/",
          "height": 34
        },
        "outputId": "5ae4a806-57a0-4db1-95c9-3a4b1898b876"
      },
      "source": [
        "print(a.shape)"
      ],
      "execution_count": 3,
      "outputs": [
        {
          "output_type": "stream",
          "text": [
            "(5,)\n"
          ],
          "name": "stdout"
        }
      ]
    },
    {
      "cell_type": "code",
      "metadata": {
        "id": "QnvEChNFmccV",
        "colab_type": "code",
        "colab": {
          "base_uri": "https://localhost:8080/",
          "height": 34
        },
        "outputId": "27ec324c-bf11-402e-e191-91b1e3ff1879"
      },
      "source": [
        "print(a.T)"
      ],
      "execution_count": 4,
      "outputs": [
        {
          "output_type": "stream",
          "text": [
            "[-0.95968604 -1.56532186  0.6940435  -0.71929287 -1.90713525]\n"
          ],
          "name": "stdout"
        }
      ]
    },
    {
      "cell_type": "code",
      "metadata": {
        "id": "leWZEqoBo31U",
        "colab_type": "code",
        "colab": {
          "base_uri": "https://localhost:8080/",
          "height": 34
        },
        "outputId": "61c65b42-6727-47a5-b89d-f1c35ebc2241"
      },
      "source": [
        "print(np.dot(a, a.T))"
      ],
      "execution_count": 5,
      "outputs": [
        {
          "output_type": "stream",
          "text": [
            "8.007473307428036\n"
          ],
          "name": "stdout"
        }
      ]
    },
    {
      "cell_type": "code",
      "metadata": {
        "id": "jY0ZzP-sqCVi",
        "colab_type": "code",
        "colab": {
          "base_uri": "https://localhost:8080/",
          "height": 102
        },
        "outputId": "af8adcde-11f7-4557-c598-1d47c5388496"
      },
      "source": [
        "a = np.random.randn(5, 1)\n",
        "print(a)"
      ],
      "execution_count": 6,
      "outputs": [
        {
          "output_type": "stream",
          "text": [
            "[[-1.12745992]\n",
            " [-0.43179753]\n",
            " [ 0.03939446]\n",
            " [-0.27984827]\n",
            " [-1.02841021]]\n"
          ],
          "name": "stdout"
        }
      ]
    },
    {
      "cell_type": "code",
      "metadata": {
        "id": "SsfiO_avqCf4",
        "colab_type": "code",
        "colab": {
          "base_uri": "https://localhost:8080/",
          "height": 34
        },
        "outputId": "9162ee70-90be-4a12-a3a0-db20e293d5d0"
      },
      "source": [
        "print(a.T)"
      ],
      "execution_count": 7,
      "outputs": [
        {
          "output_type": "stream",
          "text": [
            "[[-1.12745992 -0.43179753  0.03939446 -0.27984827 -1.02841021]]\n"
          ],
          "name": "stdout"
        }
      ]
    },
    {
      "cell_type": "code",
      "metadata": {
        "id": "WfGm0fuftuVh",
        "colab_type": "code",
        "colab": {
          "base_uri": "https://localhost:8080/",
          "height": 102
        },
        "outputId": "57b3ef2b-5bd7-4ea3-da3b-fcfb0edd2fdc"
      },
      "source": [
        "print(np.dot(a,a.T))"
      ],
      "execution_count": 8,
      "outputs": [
        {
          "output_type": "stream",
          "text": [
            "[[ 1.27116587  0.48683441 -0.04441567  0.31551771  1.1594913 ]\n",
            " [ 0.48683441  0.18644911 -0.01701043  0.12083779  0.44406499]\n",
            " [-0.04441567 -0.01701043  0.00155192 -0.01102447 -0.04051366]\n",
            " [ 0.31551771  0.12083779 -0.01102447  0.07831505  0.28779882]\n",
            " [ 1.1594913   0.44406499 -0.04051366  0.28779882  1.05762757]]\n"
          ],
          "name": "stdout"
        }
      ]
    }
  ]
}